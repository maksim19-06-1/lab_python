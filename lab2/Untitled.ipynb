{
 "cells": [
  {
   "cell_type": "code",
   "execution_count": 1,
   "metadata": {},
   "outputs": [
    {
     "data": {
      "text/html": [
       "<link href=\"https://fonts.googleapis.com/css2?family=Montserrat:ital,wght@0,400;0,500;0,600;0,700;0,800;1,400;1,500;1,600;1,700&display=swap\" rel=\"stylesheet\">\n",
       "<style>\n",
       "    h1, h2, h3, h4, p{\n",
       "        font-family: \"Montserrat\"!important;\n",
       "    }\n",
       "</style>\n",
       "<center><h1>Лабораторна робота №2</h1>\n",
       "<h2>Основи роботи з бібліотекою NumPy</h2></center>\n",
       "<h3>Завдання 1</h3>\n",
       "<p>Виконати набір вправ. Всі завдання виконати 2 способами:<br>\n",
       "а) з використанням універсальних функцій бібліотеки NumPy.<br>\n",
       "b) за допомогою ітеративних конструкцій (з використанням циклів,\n",
       "спискових включень тощо).<br>\n",
       "с) для обох випадків підрахувати час виконання скрипту та зробити\n",
       "висновок.<br><br>\n",
       "<b>Вар. 5 </b>(3, 5, 7, 9, 10, 12, 14, 15, 21) </p>\n",
       "<center>\n",
       "<h4>№3</h4>\n",
       "</center>\n",
       "<p>Вводяться 4 числа n, m, r, c. Вивести масив розміру n на m, в\n",
       "якому в кожному r -му рядку і в кожному c-му стовпчику стоять 0, а інші\n",
       "елементи дорівнюють 1.</p>\n",
       "<br>\n",
       "<p><b>Метод 1</b></p>\n"
      ],
      "text/plain": [
       "<IPython.core.display.HTML object>"
      ]
     },
     "metadata": {},
     "output_type": "display_data"
    }
   ],
   "source": [
    "%%HTML\n",
    "<link href=\"https://fonts.googleapis.com/css2?family=Montserrat:ital,wght@0,400;0,500;0,600;0,700;0,800;1,400;1,500;1,600;1,700&display=swap\" rel=\"stylesheet\">\n",
    "<style>\n",
    "    h1, h2, h3, h4, p{\n",
    "        font-family: \"Montserrat\"!important;\n",
    "    }\n",
    "</style>\n",
    "<center><h1>Лабораторна робота №2</h1>\n",
    "<h2>Основи роботи з бібліотекою NumPy</h2></center>\n",
    "<h3>Завдання 1</h3>\n",
    "<p>Виконати набір вправ. Всі завдання виконати 2 способами:<br>\n",
    "а) з використанням універсальних функцій бібліотеки NumPy.<br>\n",
    "b) за допомогою ітеративних конструкцій (з використанням циклів,\n",
    "спискових включень тощо).<br>\n",
    "с) для обох випадків підрахувати час виконання скрипту та зробити\n",
    "висновок.<br><br>\n",
    "<b>Вар. 5 </b>(3, 5, 7, 9, 10, 12, 14, 15, 21) </p>\n",
    "<center>\n",
    "<h4>№3</h4>\n",
    "</center>\n",
    "<p>Вводяться 4 числа n, m, r, c. Вивести масив розміру n на m, в\n",
    "якому в кожному r -му рядку і в кожному c-му стовпчику стоять 0, а інші\n",
    "елементи дорівнюють 1.</p>\n",
    "<br>\n",
    "<p><b>Метод 1</b></p>"
   ]
  },
  {
   "cell_type": "code",
   "execution_count": 6,
   "metadata": {},
   "outputs": [
    {
     "name": "stdout",
     "output_type": "stream",
     "text": [
      "[1, 1, 0, 1, 1, 0, 1, 1, 0, 1]\n",
      "[1, 1, 0, 1, 1, 0, 1, 1, 0, 1]\n",
      "[0, 0, 0, 0, 0, 0, 0, 0, 0, 0]\n",
      "[1, 1, 0, 1, 1, 0, 1, 1, 0, 1]\n",
      "[1, 1, 0, 1, 1, 0, 1, 1, 0, 1]\n",
      "[0, 0, 0, 0, 0, 0, 0, 0, 0, 0]\n",
      "[1, 1, 0, 1, 1, 0, 1, 1, 0, 1]\n",
      "[1, 1, 0, 1, 1, 0, 1, 1, 0, 1]\n",
      "[0, 0, 0, 0, 0, 0, 0, 0, 0, 0]\n",
      "[1, 1, 0, 1, 1, 0, 1, 1, 0, 1]\n",
      "Wall time: 979 µs\n"
     ]
    }
   ],
   "source": [
    "%%time\n",
    "import numpy as np\n",
    "#n=int(input(\"Ввод числа n: \"))\n",
    "#m=int(input(\"Ввод числа m: \"))\n",
    "#r=int(input(\"Ввод числа r: \"))\n",
    "#c=int(input(\"Ввод числа c: \"))\n",
    "n,m,r,c=10,10,3,3\n",
    "a = []\n",
    "w=1\n",
    "for q in range(n): \n",
    "    a.append([]) # создаем пустую строку\n",
    "    e=1\n",
    "    for b in range(m): \n",
    "        if(r==w or c==e):\n",
    "            a[q].append(0) # добавляем очередной элемент в строку\n",
    "        else:\n",
    "            a[q].append(1) # добавляем очередной элемент в строку\n",
    "        e=e+1\n",
    "        if(e>c):\n",
    "            e=1\n",
    "    w=w+1\n",
    "    if(w>r):\n",
    "        w=1\n",
    "for r in a:\n",
    "    print(r)\n"
   ]
  },
  {
   "cell_type": "code",
   "execution_count": 7,
   "metadata": {},
   "outputs": [
    {
     "data": {
      "text/html": [
       "<p><b>Метод 2</b></p>\n"
      ],
      "text/plain": [
       "<IPython.core.display.HTML object>"
      ]
     },
     "metadata": {},
     "output_type": "display_data"
    }
   ],
   "source": [
    "%%HTML\n",
    "<p><b>Метод 2</b></p>"
   ]
  },
  {
   "cell_type": "code",
   "execution_count": 8,
   "metadata": {},
   "outputs": [
    {
     "name": "stdout",
     "output_type": "stream",
     "text": [
      "[[1. 1. 0. 1. 1. 0. 1. 1. 0. 1.]\n",
      " [1. 1. 0. 1. 1. 0. 1. 1. 0. 1.]\n",
      " [0. 0. 0. 0. 0. 0. 0. 0. 0. 0.]\n",
      " [1. 1. 0. 1. 1. 0. 1. 1. 0. 1.]\n",
      " [1. 1. 0. 1. 1. 0. 1. 1. 0. 1.]\n",
      " [0. 0. 0. 0. 0. 0. 0. 0. 0. 0.]\n",
      " [1. 1. 0. 1. 1. 0. 1. 1. 0. 1.]\n",
      " [1. 1. 0. 1. 1. 0. 1. 1. 0. 1.]\n",
      " [0. 0. 0. 0. 0. 0. 0. 0. 0. 0.]\n",
      " [1. 1. 0. 1. 1. 0. 1. 1. 0. 1.]]\n",
      "Wall time: 4 ms\n"
     ]
    }
   ],
   "source": [
    "%%time\n",
    "#n=int(input(\"Ввод числа n: \"))\n",
    "#m=int(input(\"Ввод числа m: \"))\n",
    "#r=int(input(\"Ввод числа r: \"))\n",
    "#c=int(input(\"Ввод числа c: \"))\n",
    "n,m,r,c=10,10,3,3\n",
    "arr = np.ones((n,n))\n",
    "arr[(r-1)::r,:] = 0\n",
    "arr[:,(c-1)::c] = 0\n",
    "print(arr)"
   ]
  },
  {
   "cell_type": "code",
   "execution_count": 4,
   "metadata": {},
   "outputs": [
    {
     "data": {
      "text/html": [
       "<center>\n",
       "<h4>№5</h4>\n",
       "</center>\n",
       "<p>Вводиться число n. Вивести масив розміру n на n, в якому в рядках\n",
       "з парними індексами стоять 1, а в інших – 0.</p>\n",
       "<br>\n",
       "<p><b>Метод 1</b></p>\n"
      ],
      "text/plain": [
       "<IPython.core.display.HTML object>"
      ]
     },
     "metadata": {},
     "output_type": "display_data"
    }
   ],
   "source": [
    "%%HTML\n",
    "<center>\n",
    "<h4>№5</h4>\n",
    "</center>\n",
    "<p>Вводиться число n. Вивести масив розміру n на n, в якому в рядках\n",
    "з парними індексами стоять 1, а в інших – 0.</p>\n",
    "<br>\n",
    "<p><b>Метод 1</b></p>"
   ]
  },
  {
   "cell_type": "code",
   "execution_count": 21,
   "metadata": {},
   "outputs": [
    {
     "name": "stdout",
     "output_type": "stream",
     "text": [
      "36.5 µs ± 2.62 µs per loop (mean ± std. dev. of 7 runs, 10000 loops each)\n"
     ]
    }
   ],
   "source": [
    "%%timeit\n",
    "#n=int(input(\"Ввод числа n: \"))\n",
    "n=10\n",
    "a = []\n",
    "for q in range(n): \n",
    "    a.append([]) # создаем пустую строку\n",
    "    for b in range(n): \n",
    "        if(q%2):\n",
    "            a[q].append(0) # добавляем очередной элемент в строку\n",
    "        else:\n",
    "            a[q].append(1) # добавляем очередной элемент в строку\n",
    "a"
   ]
  },
  {
   "cell_type": "code",
   "execution_count": 21,
   "metadata": {},
   "outputs": [
    {
     "data": {
      "text/html": [
       "<p><b>Метод 2</b></p>\n"
      ],
      "text/plain": [
       "<IPython.core.display.HTML object>"
      ]
     },
     "metadata": {},
     "output_type": "display_data"
    }
   ],
   "source": [
    "%%HTML\n",
    "<p><b>Метод 2</b></p>"
   ]
  },
  {
   "cell_type": "code",
   "execution_count": 23,
   "metadata": {},
   "outputs": [
    {
     "name": "stdout",
     "output_type": "stream",
     "text": [
      "2.21 µs ± 94.3 ns per loop (mean ± std. dev. of 7 runs, 100000 loops each)\n"
     ]
    }
   ],
   "source": [
    "%%timeit\n",
    "#n=int(input(\"Ввод числа n: \"))\n",
    "n=10\n",
    "arr = np.zeros((n,n))\n",
    "arr[::2,:] = 1\n",
    "arr"
   ]
  },
  {
   "cell_type": "code",
   "execution_count": 22,
   "metadata": {},
   "outputs": [
    {
     "data": {
      "text/html": [
       "<center>\n",
       "<h4>№7</h4>\n",
       "</center>\n",
       "<p>З клавіатури вводиться масив. Замінити всі нульові елементи на -1.</p>\n",
       "<br>\n",
       "<p><b>Метод 1</b></p>\n"
      ],
      "text/plain": [
       "<IPython.core.display.HTML object>"
      ]
     },
     "metadata": {},
     "output_type": "display_data"
    }
   ],
   "source": [
    "%%HTML\n",
    "<center>\n",
    "<h4>№7</h4>\n",
    "</center>\n",
    "<p>З клавіатури вводиться масив. Замінити всі нульові елементи на -1.</p>\n",
    "<br>\n",
    "<p><b>Метод 1</b></p>"
   ]
  },
  {
   "cell_type": "code",
   "execution_count": 32,
   "metadata": {},
   "outputs": [
    {
     "data": {
      "text/plain": [
       "[99, 6666, -1, 5, 7, 8, 6, 4, 5, -1, -1, -1, 7, 8]"
      ]
     },
     "execution_count": 32,
     "metadata": {},
     "output_type": "execute_result"
    }
   ],
   "source": [
    "#%%timeit\n",
    "#a = list(map(int,input('Введите значения через пробел: ').split()))\n",
    "input_a=[99, 6666, 0, 5, 7, 8, 6, 4, 5, 0, 0, 0, 7, 8]\n",
    "a = list(map(int,input_a))\n",
    "for q in range(len(a)):\n",
    "    if(a[q]==0):\n",
    "        a[q]=-1\n",
    "a"
   ]
  },
  {
   "cell_type": "code",
   "execution_count": 322,
   "metadata": {},
   "outputs": [
    {
     "data": {
      "text/html": [
       "<p><b>Метод 2</b></p>\n"
      ],
      "text/plain": [
       "<IPython.core.display.HTML object>"
      ]
     },
     "metadata": {},
     "output_type": "display_data"
    }
   ],
   "source": [
    "%%HTML\n",
    "<p><b>Метод 2</b></p>"
   ]
  },
  {
   "cell_type": "code",
   "execution_count": 33,
   "metadata": {},
   "outputs": [
    {
     "data": {
      "text/plain": [
       "array([  99, 6666,   -1,    5,    7,    8,    6,    4,    5,   -1,   -1,\n",
       "         -1,    7,    8])"
      ]
     },
     "execution_count": 33,
     "metadata": {},
     "output_type": "execute_result"
    }
   ],
   "source": [
    "#%%timeit\n",
    "#Z = np.asarray(list(map(int,input('Введите значения через пробел: ').split())))\n",
    "input_a=[99, 6666, 0, 5, 7, 8, 6, 4, 5, 0, 0, 0, 7, 8]\n",
    "Z = np.asarray(list(map(int,input_a)))\n",
    "Z = np.where(Z == 0, -1, Z)\n",
    "Z"
   ]
  },
  {
   "cell_type": "code",
   "execution_count": 383,
   "metadata": {},
   "outputs": [
    {
     "data": {
      "text/html": [
       "<center>\n",
       "<h4>№9</h4>\n",
       "</center>\n",
       "<p>Вводиться число n. Створити масив значень від n до 0.</p>\n",
       "<br>\n",
       "<p><b>Метод 1</b></p>\n"
      ],
      "text/plain": [
       "<IPython.core.display.HTML object>"
      ]
     },
     "metadata": {},
     "output_type": "display_data"
    }
   ],
   "source": [
    "%%HTML\n",
    "<center>\n",
    "<h4>№9</h4>\n",
    "</center>\n",
    "<p>Вводиться число n. Створити масив значень від n до 0.</p>\n",
    "<br>\n",
    "<p><b>Метод 1</b></p>"
   ]
  },
  {
   "cell_type": "code",
   "execution_count": 36,
   "metadata": {},
   "outputs": [
    {
     "name": "stdout",
     "output_type": "stream",
     "text": [
      "2.92 µs ± 174 ns per loop (mean ± std. dev. of 7 runs, 100000 loops each)\n"
     ]
    }
   ],
   "source": [
    "%%timeit\n",
    "#n=int(input(\"Ввод числа n: \"))\n",
    "n=10\n",
    "a=[]\n",
    "w=n\n",
    "for b in range(n+1):\n",
    "    a.append(w) # добавляем очередной элемент в строку\n",
    "    w=w-1\n",
    "a"
   ]
  },
  {
   "cell_type": "code",
   "execution_count": 76,
   "metadata": {},
   "outputs": [
    {
     "data": {
      "text/html": [
       "<p><b>Метод 2</b></p>\n"
      ],
      "text/plain": [
       "<IPython.core.display.HTML object>"
      ]
     },
     "metadata": {},
     "output_type": "display_data"
    }
   ],
   "source": [
    "%%HTML\n",
    "<p><b>Метод 2</b></p>"
   ]
  },
  {
   "cell_type": "code",
   "execution_count": 38,
   "metadata": {},
   "outputs": [
    {
     "name": "stdout",
     "output_type": "stream",
     "text": [
      "1.39 µs ± 76 ns per loop (mean ± std. dev. of 7 runs, 1000000 loops each)\n"
     ]
    }
   ],
   "source": [
    "%%timeit\n",
    "#n=int(input(\"Ввод числа n: \"))\n",
    "n=10\n",
    "np.arange(n+1)"
   ]
  },
  {
   "cell_type": "code",
   "execution_count": 77,
   "metadata": {},
   "outputs": [
    {
     "data": {
      "text/html": [
       "<center>\n",
       "<h4>№10</h4>\n",
       "</center>\n",
       "<p>Вводиться числа n i m. Створити масив випадкових значень n на m\n",
       "і обчислити мінімальне, максимальне значення, середнє та середньо\n",
       "квадратичне відхилення, округлене до 3 знаків після коми</p>\n",
       "<br>\n",
       "<p><b>Метод 1</b></p>\n"
      ],
      "text/plain": [
       "<IPython.core.display.HTML object>"
      ]
     },
     "metadata": {},
     "output_type": "display_data"
    }
   ],
   "source": [
    "%%HTML\n",
    "<center>\n",
    "<h4>№10</h4>\n",
    "</center>\n",
    "<p>Вводиться числа n i m. Створити масив випадкових значень n на m\n",
    "і обчислити мінімальне, максимальне значення, середнє та середньо\n",
    "квадратичне відхилення, округлене до 3 знаків після коми</p>\n",
    "<br>\n",
    "<p><b>Метод 1</b></p>"
   ]
  },
  {
   "cell_type": "code",
   "execution_count": 41,
   "metadata": {},
   "outputs": [
    {
     "name": "stdout",
     "output_type": "stream",
     "text": [
      " \n",
      "мінімум: 0.192\n",
      "максимум: 0.879\n",
      "середнє: 0.436\n",
      "середне квадратичне відхилення: 0.004\n"
     ]
    },
    {
     "data": {
      "text/plain": [
       "[[0.592, 0.48, 0.405, 0.877, 0.087],\n",
       " [0.568, 0.08, 0.332, 0.713, 0.03],\n",
       " [0.324, 0.192, 0.516, 0.326, 0.253],\n",
       " [0.686, 0.413, 0.31, 0.118, 0.707],\n",
       " [0.879, 0.2, 0.504, 0.58, 0.73]]"
      ]
     },
     "execution_count": 41,
     "metadata": {},
     "output_type": "execute_result"
    }
   ],
   "source": [
    "#%%timeit\n",
    "import random\n",
    "def sr(numbers):\n",
    "    v=[]\n",
    "    for c in range(numbers):\n",
    "        v.append(sum(a[c]) / len(a[c])) \n",
    "    return sum(v) / len(v)\n",
    "def sro(numbers):\n",
    "    b=[]\n",
    "    for i in range(numbers):\n",
    "        b+=list(a[i])\n",
    "    m = sum(b) / len(b)\n",
    "    varRes = sum([(xi - m)**2 for xi in b]) / len(b)\n",
    "    return varRes**2\n",
    "\n",
    "#n=int(input(\"Ввод числа n: \"))\n",
    "#m=int(input(\"Ввод числа m: \"))\n",
    "n,m=5,5\n",
    "a = []\n",
    "for q in range(n): \n",
    "    a.append([]) # создаем пустую строку\n",
    "    for b in range(m): \n",
    "        a[q].append(round(random.random(),3)) # добавляем очередной элемент в строку\n",
    "print(\" \")\n",
    "print(\"мінімум:\", min(min(a)))\n",
    "print(\"максимум:\", max(max(a)))\n",
    "print(\"середнє:\", round(sr(n),3))\n",
    "print(\"середне квадратичне відхилення:\", round(sro(n),3))\n",
    "a"
   ]
  },
  {
   "cell_type": "code",
   "execution_count": 451,
   "metadata": {},
   "outputs": [
    {
     "data": {
      "text/html": [
       "<p><b>Метод 2</b></p>\n"
      ],
      "text/plain": [
       "<IPython.core.display.HTML object>"
      ]
     },
     "metadata": {},
     "output_type": "display_data"
    }
   ],
   "source": [
    "%%HTML\n",
    "<p><b>Метод 2</b></p>"
   ]
  },
  {
   "cell_type": "code",
   "execution_count": 42,
   "metadata": {},
   "outputs": [
    {
     "name": "stdout",
     "output_type": "stream",
     "text": [
      " \n",
      "мінімум: 0.028\n",
      "максимум: 0.962\n",
      "середнє: 0.428\n",
      "середне квадратичне відхилення: 0.007\n",
      " \n",
      "[[0.183 0.942 0.458 0.316 0.151]\n",
      " [0.934 0.831 0.388 0.393 0.57 ]\n",
      " [0.699 0.223 0.311 0.028 0.269]\n",
      " [0.35  0.077 0.121 0.309 0.511]\n",
      " [0.822 0.962 0.548 0.055 0.247]]\n"
     ]
    }
   ],
   "source": [
    "#%%timeit\n",
    "#n=int(input(\"Ввод числа n: \"))\n",
    "#m=int(input(\"Ввод числа m: \"))\n",
    "n,m=5,5\n",
    "Z=np.random.random((n,m))\n",
    "Z=np.around(Z, decimals=3)\n",
    "print(\" \")\n",
    "print(\"мінімум:\", np.min(Z))\n",
    "print(\"максимум:\", np.max(Z))\n",
    "print(\"середнє:\", np.around(Z.mean(), decimals=3))\n",
    "print(\"середне квадратичне відхилення:\", np.around((np.var(Z)**2), decimals=3))\n",
    "print(\" \")\n",
    "print(Z)\n"
   ]
  },
  {
   "cell_type": "code",
   "execution_count": 169,
   "metadata": {},
   "outputs": [
    {
     "data": {
      "text/html": [
       "<center>\n",
       "<h4>№12</h4>\n",
       "</center>\n",
       "<p>Створити масив одиниць розміром n х n та створити в ньому\n",
       "«рамку», сформовану з 0.</p>\n",
       "<br>\n",
       "<p><b>Метод 1</b></p>\n"
      ],
      "text/plain": [
       "<IPython.core.display.HTML object>"
      ]
     },
     "metadata": {},
     "output_type": "display_data"
    }
   ],
   "source": [
    "%%HTML\n",
    "<center>\n",
    "<h4>№12</h4>\n",
    "</center>\n",
    "<p>Створити масив одиниць розміром n х n та створити в ньому\n",
    "«рамку», сформовану з 0.</p>\n",
    "<br>\n",
    "<p><b>Метод 1</b></p>"
   ]
  },
  {
   "cell_type": "code",
   "execution_count": 45,
   "metadata": {},
   "outputs": [
    {
     "name": "stdout",
     "output_type": "stream",
     "text": [
      "6.24 µs ± 277 ns per loop (mean ± std. dev. of 7 runs, 100000 loops each)\n"
     ]
    }
   ],
   "source": [
    "%%timeit\n",
    "#n=int(input(\"Ввод числа n: \"))\n",
    "n=10\n",
    "w=[0] * n\n",
    "a=[0]\n",
    "e=[1] * (n-2)\n",
    "for i in range(n):\n",
    "    if(i==0 or i==n-1):\n",
    "        w[i] = [0] * n\n",
    "    else:\n",
    "        w[i]=a+e+a\n",
    "w"
   ]
  },
  {
   "cell_type": "code",
   "execution_count": 187,
   "metadata": {},
   "outputs": [
    {
     "data": {
      "text/html": [
       "<p><b>Метод 2</b></p>\n"
      ],
      "text/plain": [
       "<IPython.core.display.HTML object>"
      ]
     },
     "metadata": {},
     "output_type": "display_data"
    }
   ],
   "source": [
    "%%HTML\n",
    "<p><b>Метод 2</b></p>"
   ]
  },
  {
   "cell_type": "code",
   "execution_count": 46,
   "metadata": {},
   "outputs": [
    {
     "name": "stdout",
     "output_type": "stream",
     "text": [
      "4.92 µs ± 454 ns per loop (mean ± std. dev. of 7 runs, 100000 loops each)\n"
     ]
    }
   ],
   "source": [
    "%%timeit\n",
    "n=10\n",
    "#n=int(input(\"Ввод числа n: \"))\n",
    "arr = np.ones((n,n))\n",
    "arr[1:(n-1),1:(n-1)] = 0\n",
    "arr"
   ]
  },
  {
   "cell_type": "code",
   "execution_count": 188,
   "metadata": {},
   "outputs": [
    {
     "data": {
      "text/html": [
       "<center>\n",
       "<h4>№14</h4>\n",
       "</center>\n",
       "<p>Розмістити на полі 8х8 нулі та одиниці в шахматному порядку,\n",
       "використовуючи функцію numpy tile().</p>\n",
       "<br>\n",
       "<p><b>Метод 1</b></p>\n"
      ],
      "text/plain": [
       "<IPython.core.display.HTML object>"
      ]
     },
     "metadata": {},
     "output_type": "display_data"
    }
   ],
   "source": [
    "%%HTML\n",
    "<center>\n",
    "<h4>№14</h4>\n",
    "</center>\n",
    "<p>Розмістити на полі 8х8 нулі та одиниці в шахматному порядку,\n",
    "використовуючи функцію numpy tile().</p>\n",
    "<br>\n",
    "<p><b>Метод 1</b></p>"
   ]
  },
  {
   "cell_type": "code",
   "execution_count": 51,
   "metadata": {},
   "outputs": [
    {
     "name": "stdout",
     "output_type": "stream",
     "text": [
      "17.1 µs ± 431 ns per loop (mean ± std. dev. of 7 runs, 100000 loops each)\n"
     ]
    }
   ],
   "source": [
    "%%timeit\n",
    "a =[[0, 1, 0, 1, 0, 1, 0, 1],[1, 0, 1, 0, 1, 0, 1, 0]]\n",
    "x=np.tile(a, [4, 1])\n",
    "x"
   ]
  },
  {
   "cell_type": "code",
   "execution_count": 321,
   "metadata": {},
   "outputs": [
    {
     "data": {
      "text/html": [
       "<p><b>Метод 2</b></p>\n"
      ],
      "text/plain": [
       "<IPython.core.display.HTML object>"
      ]
     },
     "metadata": {},
     "output_type": "display_data"
    }
   ],
   "source": [
    "%%HTML\n",
    "<p><b>Метод 2</b></p>"
   ]
  },
  {
   "cell_type": "code",
   "execution_count": 52,
   "metadata": {},
   "outputs": [
    {
     "name": "stdout",
     "output_type": "stream",
     "text": [
      "16.4 µs ± 340 ns per loop (mean ± std. dev. of 7 runs, 100000 loops each)\n"
     ]
    }
   ],
   "source": [
    "%%timeit\n",
    "Z = np.tile(np.array([[0,1],[1,0]]), (4,4))\n",
    "Z"
   ]
  },
  {
   "cell_type": "code",
   "execution_count": 201,
   "metadata": {},
   "outputs": [
    {
     "data": {
      "text/html": [
       "<center>\n",
       "<h4>№15</h4>\n",
       "</center>\n",
       "<p>Заповнити парні стовбчики матриці розміром n х n одиницями, а\n",
       "непарні – нулями.</p>\n",
       "<br>\n",
       "<p><b>Метод 1</b></p>\n"
      ],
      "text/plain": [
       "<IPython.core.display.HTML object>"
      ]
     },
     "metadata": {},
     "output_type": "display_data"
    }
   ],
   "source": [
    "%%HTML\n",
    "<center>\n",
    "<h4>№15</h4>\n",
    "</center>\n",
    "<p>Заповнити парні стовбчики матриці розміром n х n одиницями, а\n",
    "непарні – нулями.</p>\n",
    "<br>\n",
    "<p><b>Метод 1</b></p>"
   ]
  },
  {
   "cell_type": "code",
   "execution_count": 53,
   "metadata": {},
   "outputs": [
    {
     "name": "stdout",
     "output_type": "stream",
     "text": [
      "37.5 µs ± 2.74 µs per loop (mean ± std. dev. of 7 runs, 10000 loops each)\n"
     ]
    }
   ],
   "source": [
    "%%timeit\n",
    "n=10\n",
    "#n=int(input(\"Ввод числа n: \"))\n",
    "a = []\n",
    "for q in range(n): \n",
    "    a.append([]) # создаем пустую строку\n",
    "    for b in range(n): \n",
    "        if(b%2):\n",
    "            a[q].append(1) # добавляем очередной элемент в строку\n",
    "        else:\n",
    "            a[q].append(0) # добавляем очередной элемент в строку\n",
    "a"
   ]
  },
  {
   "cell_type": "code",
   "execution_count": 218,
   "metadata": {},
   "outputs": [
    {
     "data": {
      "text/html": [
       "<p><b>Метод 2</b></p>\n"
      ],
      "text/plain": [
       "<IPython.core.display.HTML object>"
      ]
     },
     "metadata": {},
     "output_type": "display_data"
    }
   ],
   "source": [
    "%%HTML\n",
    "<p><b>Метод 2</b></p>"
   ]
  },
  {
   "cell_type": "code",
   "execution_count": 55,
   "metadata": {},
   "outputs": [
    {
     "name": "stdout",
     "output_type": "stream",
     "text": [
      "4.78 µs ± 257 ns per loop (mean ± std. dev. of 7 runs, 100000 loops each)\n"
     ]
    }
   ],
   "source": [
    "%%timeit\n",
    "n=10\n",
    "#n=int(input(\"Ввод числа n: \"))\n",
    "arr = np.ones((n,n))\n",
    "arr[:,::2] = 0\n",
    "arr"
   ]
  },
  {
   "cell_type": "code",
   "execution_count": 219,
   "metadata": {},
   "outputs": [
    {
     "data": {
      "text/html": [
       "<center>\n",
       "<h4>№21</h4>\n",
       "</center>\n",
       "<p>Ввести числа n і m. Згенерувати матрицю n на n випадкових цілих\n",
       "елементів з діапазону [0, m]. Замінити всі максимальні елементи цієї матриці\n",
       "на протилежні за знаком.</p>\n",
       "<br>\n",
       "<p><b>Метод 1</b></p>\n"
      ],
      "text/plain": [
       "<IPython.core.display.HTML object>"
      ]
     },
     "metadata": {},
     "output_type": "display_data"
    }
   ],
   "source": [
    "%%HTML\n",
    "<center>\n",
    "<h4>№21</h4>\n",
    "</center>\n",
    "<p>Ввести числа n і m. Згенерувати матрицю n на n випадкових цілих\n",
    "елементів з діапазону [0, m]. Замінити всі максимальні елементи цієї матриці\n",
    "на протилежні за знаком.</p>\n",
    "<br>\n",
    "<p><b>Метод 1</b></p>"
   ]
  },
  {
   "cell_type": "code",
   "execution_count": 60,
   "metadata": {},
   "outputs": [
    {
     "name": "stdout",
     "output_type": "stream",
     "text": [
      "Ввод числа n: 10\n",
      "Ввод числа m: 4\n",
      "[[4, 4, 1, 4, 0, 4, 1, 4, 0, 3], [4, 3, 3, 4, 2, 0, 4, 3, 3, 0], [4, 1, 3, 2, 3, 2, 0, 4, 0, 2], [0, 3, 1, 4, 3, 3, 1, 4, 3, 1], [1, 0, 2, 4, 1, 0, 3, 2, 2, 0], [0, 4, 3, 4, 0, 3, 4, 4, 0, 1], [0, 4, 1, 1, 3, 2, 1, 1, 4, 2], [0, 4, 3, 1, 3, 2, 2, 1, 4, 4], [4, 3, 4, 2, 2, 2, 2, 0, 1, 3], [0, 1, 0, 4, 1, 0, 3, 1, 4, 0]]\n"
     ]
    },
    {
     "data": {
      "text/plain": [
       "[[-4, -4, 1, -4, 0, -4, 1, -4, 0, 3],\n",
       " [-4, 3, 3, -4, 2, 0, -4, 3, 3, 0],\n",
       " [-4, 1, 3, 2, 3, 2, 0, -4, 0, 2],\n",
       " [0, 3, 1, -4, 3, 3, 1, -4, 3, 1],\n",
       " [1, 0, 2, -4, 1, 0, 3, 2, 2, 0],\n",
       " [0, -4, 3, -4, 0, 3, -4, -4, 0, 1],\n",
       " [0, -4, 1, 1, 3, 2, 1, 1, -4, 2],\n",
       " [0, -4, 3, 1, 3, 2, 2, 1, -4, -4],\n",
       " [-4, 3, -4, 2, 2, 2, 2, 0, 1, 3],\n",
       " [0, 1, 0, -4, 1, 0, 3, 1, -4, 0]]"
      ]
     },
     "execution_count": 60,
     "metadata": {},
     "output_type": "execute_result"
    }
   ],
   "source": [
    "n=int(input(\"Ввод числа n: \"))\n",
    "m=int(input(\"Ввод числа m: \"))\n",
    "a = []\n",
    "for q in range(n): \n",
    "    a.append([]) # создаем пустую строку\n",
    "    for b in range(n): \n",
    "        a[q].append(round(random.randint(0, m),3)) # добавляем очередной элемент в строку\n",
    "print(a)\n",
    "b=[]\n",
    "for i in range(n):\n",
    "    b+=list(a[i])\n",
    "e=max(b)\n",
    "for q in range(n):\n",
    "    for b in range(n): \n",
    "        if(a[q][b]==e):\n",
    "            a[q][b]=-a[q][b]\n",
    "\n",
    "a"
   ]
  },
  {
   "cell_type": "code",
   "execution_count": 249,
   "metadata": {},
   "outputs": [
    {
     "data": {
      "text/html": [
       "<p><b>Метод 2</b></p>\n"
      ],
      "text/plain": [
       "<IPython.core.display.HTML object>"
      ]
     },
     "metadata": {},
     "output_type": "display_data"
    }
   ],
   "source": [
    "%%HTML\n",
    "<p><b>Метод 2</b></p>"
   ]
  },
  {
   "cell_type": "code",
   "execution_count": 61,
   "metadata": {},
   "outputs": [
    {
     "name": "stdout",
     "output_type": "stream",
     "text": [
      "Ввод числа n: 10\n",
      "Ввод числа m: 4\n",
      "[[1 0 1 2 2 2 3 2 2 2]\n",
      " [0 0 0 3 2 3 0 1 2 2]\n",
      " [3 3 3 3 0 2 2 3 0 0]\n",
      " [2 1 3 3 3 0 3 0 3 2]\n",
      " [0 0 2 2 0 1 0 3 1 3]\n",
      " [0 2 0 3 2 1 0 1 2 2]\n",
      " [0 2 2 0 2 1 1 0 2 1]\n",
      " [1 2 1 2 2 0 0 0 2 2]\n",
      " [3 1 0 3 0 0 1 3 0 0]\n",
      " [2 2 0 0 0 1 0 1 2 2]]\n",
      "3\n",
      "[[ 1  0  1  2  2  2 -3  2  2  2]\n",
      " [ 0  0  0 -3  2 -3  0  1  2  2]\n",
      " [-3 -3 -3 -3  0  2  2 -3  0  0]\n",
      " [ 2  1 -3 -3 -3  0 -3  0 -3  2]\n",
      " [ 0  0  2  2  0  1  0 -3  1 -3]\n",
      " [ 0  2  0 -3  2  1  0  1  2  2]\n",
      " [ 0  2  2  0  2  1  1  0  2  1]\n",
      " [ 1  2  1  2  2  0  0  0  2  2]\n",
      " [-3  1  0 -3  0  0  1 -3  0  0]\n",
      " [ 2  2  0  0  0  1  0  1  2  2]]\n"
     ]
    }
   ],
   "source": [
    "n=int(input(\"Ввод числа n: \"))\n",
    "m=int(input(\"Ввод числа m: \"))\n",
    "Z=np.random.randint(0, m,(n,n))\n",
    "print(Z)\n",
    "Zmax=Z.max()\n",
    "print(Zmax)\n",
    "Z = np.where(Z == Zmax, -Z, Z)\n",
    "print(Z)\n"
   ]
  },
  {
   "cell_type": "code",
   "execution_count": 464,
   "metadata": {},
   "outputs": [
    {
     "data": {
      "text/html": [
       "<h3>Завдання 2</h3>\n",
       "<p>Розв’язати систему за допомогою формул Крамера і виконати перевірку за\n",
       "допомогою:<br>\n",
       "a) матричного множення;<br>\n",
       "b) оберненої матриці;<br>\n",
       "c) функції numpy.linalg.solve().<br>\n",
       "Порівняти всі рішення за допомогою функції numpy.allclose()</p><br>\n",
       "\\begin{cases}x_{1}+3x_{2}+5x_{3}+7x_{4}=12\\\\3x_{1}+5x_{2}+7x_{3}+x_{4}=0\\\\5x_{1}+7x_{2}+x_{3}+3x_{4}=4\\\\7x_{1}+x_{2}+3x_{3}+5x_{4}=16\\end{cases}\n"
      ],
      "text/plain": [
       "<IPython.core.display.HTML object>"
      ]
     },
     "metadata": {},
     "output_type": "display_data"
    }
   ],
   "source": [
    "%%html\n",
    "<h3>Завдання 2</h3>\n",
    "<p>Розв’язати систему за допомогою формул Крамера і виконати перевірку за\n",
    "допомогою:<br>\n",
    "a) матричного множення;<br>\n",
    "b) оберненої матриці;<br>\n",
    "c) функції numpy.linalg.solve().<br>\n",
    "Порівняти всі рішення за допомогою функції numpy.allclose()</p><br>\n",
    "\\begin{cases}x_{1}+3x_{2}+5x_{3}+7x_{4}=12\\\\3x_{1}+5x_{2}+7x_{3}+x_{4}=0\\\\5x_{1}+7x_{2}+x_{3}+3x_{4}=4\\\\7x_{1}+x_{2}+3x_{3}+5x_{4}=16\\end{cases}"
   ]
  },
  {
   "cell_type": "code",
   "execution_count": 30,
   "metadata": {
    "scrolled": true
   },
   "outputs": [
    {
     "name": "stdout",
     "output_type": "stream",
     "text": [
      "x 1 = 1.0\n",
      "x 2 = -1.0\n",
      "x 3 = -0.0\n",
      "x 4 = 2.0\n",
      "Проверка суммы:  True\n",
      "Проверка numpy.linalg.solve():  True\n",
      "Проверка методом оберненої матриці:  True\n"
     ]
    }
   ],
   "source": [
    "a = np.array([[1, 3, 5, 7],[3, 5, 7, 1],[5, 7, 1, 3],[7, 1, 3, 5]])\n",
    "a2= np.array([[12],[0],[4],[16]])\n",
    "y=np.linalg.det(a)\n",
    "n=4\n",
    "for i in range(n):\n",
    "    a_2=a.copy()\n",
    "    a_2[:,i:(i+1)]=a2\n",
    "    print(\"x\",i+1,\"=\",round((round(np.linalg.det(a_2),2)/y),2))\n",
    "    Z2=np.around(np.linalg.solve(a,a2), decimals=2)\n",
    "tt=0\n",
    "for z in range(4):\n",
    "    tt=tt+a[0][z]*Z2[:][z]\n",
    "print(\"Проверка суммы: \",np.allclose(tt,a2[:][0]))\n",
    "\n",
    "Z=np.around(np.linalg.solve(a,a2), decimals=2)\n",
    "print(\"Проверка numpy.linalg.solve(): \",np.allclose(Z,Z2))\n",
    "\n",
    "r=np.dot(np.linalg.inv(a),a2)\n",
    "print(\"Проверка методом оберненої матриці: \",np.allclose(r,Z2))"
   ]
  },
  {
   "cell_type": "code",
   "execution_count": 651,
   "metadata": {},
   "outputs": [
    {
     "data": {
      "text/html": [
       "<h3>Завдання 3</h3>\n",
       "<p>Обчислити значення матричного виразу<br>\n",
       "а) з використанням універсальних функцій бібліотеки NumPy.<br>\n",
       "b) за допомогою ітеративних конструкцій (з використанням циклів, спискових включень тощо).<br>\n",
       "с) для обох випадків підрахувати час виконання скрипту та зробити висновок.</p><br>\n",
       "\n",
       "\\[\\left(A-B^2\\right)\\left(2A+B\\right), де A=\\left(\\begin{array}{c}5 & 2 &0\\\\ 10 & 4 &1\\\\ 7 & 3 &2\\end{array}\\right),B=\\left(\\begin{array}{c}3 & 6 &-1\\\\ -1 & -2 &0\\\\ 2 & 1 &3\\end{array}\\right)\\]\n",
       "\n",
       "\n",
       "<p><b>Метод 1</b></p>\n"
      ],
      "text/plain": [
       "<IPython.core.display.HTML object>"
      ]
     },
     "metadata": {},
     "output_type": "display_data"
    }
   ],
   "source": [
    "%%html\n",
    "<h3>Завдання 3</h3>\n",
    "<p>Обчислити значення матричного виразу<br>\n",
    "а) з використанням універсальних функцій бібліотеки NumPy.<br>\n",
    "b) за допомогою ітеративних конструкцій (з використанням циклів, спискових включень тощо).<br>\n",
    "с) для обох випадків підрахувати час виконання скрипту та зробити висновок.</p><br>\n",
    "\n",
    "\\[\\left(A-B^2\\right)\\left(2A+B\\right), де A=\\left(\\begin{array}{c}5 & 2 &0\\\\ 10 & 4 &1\\\\ 7 & 3 &2\\end{array}\\right),B=\\left(\\begin{array}{c}3 & 6 &-1\\\\ -1 & -2 &0\\\\ 2 & 1 &3\\end{array}\\right)\\]\n",
    "\n",
    "\n",
    "<p><b>Метод 1</b></p>"
   ]
  },
  {
   "cell_type": "code",
   "execution_count": 62,
   "metadata": {
    "scrolled": true
   },
   "outputs": [
    {
     "name": "stdout",
     "output_type": "stream",
     "text": [
      "32.2 µs ± 1.56 µs per loop (mean ± std. dev. of 7 runs, 10000 loops each)\n"
     ]
    }
   ],
   "source": [
    "a=np.array([[5, 2, 0],[10, 4, 1],[7, 3, 2]])\n",
    "b=np.array([[3, 6, -1],[-1, -2, 0],[2, 1, 3]])\n",
    "answer=np.dot((a-np.linalg.matrix_power(b, 2)),(np.dot(a,2)+b))\n",
    "print(answer)"
   ]
  },
  {
   "cell_type": "code",
   "execution_count": 660,
   "metadata": {},
   "outputs": [
    {
     "data": {
      "text/html": [
       "<p><b>Метод 2</b></p>\n"
      ],
      "text/plain": [
       "<IPython.core.display.HTML object>"
      ]
     },
     "metadata": {},
     "output_type": "display_data"
    }
   ],
   "source": [
    "%%html\n",
    "<p><b>Метод 2</b></p>"
   ]
  },
  {
   "cell_type": "code",
   "execution_count": 64,
   "metadata": {},
   "outputs": [
    {
     "name": "stdout",
     "output_type": "stream",
     "text": [
      "[[91, 64, 32], [257, 146, 1], [-322, -135, -51]]\n"
     ]
    }
   ],
   "source": [
    "\n",
    "A=[[5, 2, 0],[10, 4, 1],[7, 3, 2]]\n",
    "B=[[3, 6, -1],[-1, -2, 0],[2, 1, 3]]\n",
    "#B^2\n",
    "result = []\n",
    "for i in range(len(B)):\n",
    "    row = []\n",
    "    for j in range(len(B)):\n",
    "        product = 0\n",
    "        for v in range(len(B[i])):\n",
    "            product += B[i][v] * B[v][j]\n",
    "        row.append(product)\n",
    "    result.append(row)\n",
    "#A-B^2\n",
    "result2 = []\n",
    "for i in range(len(A)):\n",
    "    row2 = []\n",
    "    for j in range(len(A)):\n",
    "        row2.append(A[i][j]-result[i][j])\n",
    "    result2.append(row2)\n",
    "#2A        \n",
    "result3 = []\n",
    "for i in range(len(A)):\n",
    "    row3 = []\n",
    "    for j in range(len(A)):\n",
    "        row3.append(A[i][j]*2)\n",
    "    result3.append(row3)\n",
    "#2A+B       \n",
    "result4 = []\n",
    "for i in range(len(A)):\n",
    "    row4 = []\n",
    "    for j in range(len(A)):\n",
    "        row4.append(result3[i][j]+B[i][j])\n",
    "    result4.append(row4)\n",
    "result4\n",
    "#(A-B^2)(2A+B)\n",
    "result5 = []\n",
    "for i in range(len(B)):\n",
    "    row5 = []\n",
    "    for j in range(len(B)):\n",
    "        product = 0\n",
    "        for v in range(len(B[i])):\n",
    "            product += result2[i][v] * result4[v][j]\n",
    "        row5.append(product)\n",
    "    result5.append(row5)\n",
    "print(result5)"
   ]
  },
  {
   "cell_type": "code",
   "execution_count": 701,
   "metadata": {},
   "outputs": [
    {
     "name": "stdout",
     "output_type": "stream",
     "text": [
      "Проверка:  True\n"
     ]
    }
   ],
   "source": [
    "l=np.array(result5)\n",
    "print(\"Проверка: \",np.allclose(answer,l))"
   ]
  },
  {
   "cell_type": "code",
   "execution_count": null,
   "metadata": {},
   "outputs": [],
   "source": []
  }
 ],
 "metadata": {
  "kernelspec": {
   "display_name": "Python 3",
   "language": "python",
   "name": "python3"
  },
  "language_info": {
   "codemirror_mode": {
    "name": "ipython",
    "version": 3
   },
   "file_extension": ".py",
   "mimetype": "text/x-python",
   "name": "python",
   "nbconvert_exporter": "python",
   "pygments_lexer": "ipython3",
   "version": "3.8.5"
  }
 },
 "nbformat": 4,
 "nbformat_minor": 4
}
